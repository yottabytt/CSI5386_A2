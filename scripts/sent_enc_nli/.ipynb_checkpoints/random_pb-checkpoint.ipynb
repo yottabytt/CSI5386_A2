{
 "cells": [
  {
   "cell_type": "code",
   "execution_count": 2,
   "metadata": {
    "collapsed": true
   },
   "outputs": [],
   "source": [
    "import numpy\n",
    "import theano\n",
    "import theano.tensor as T\n",
    "rng = numpy.random\n",
    "# Training data\n",
    "N = 400\n",
    "feats = 784\n",
    "D = (rng.randn(N, feats).astype(theano.config.floatX), rng.randint(size=N,low=0, high=2).astype(theano.config.floatX))\n",
    "training_steps = 10000\n",
    "# Declare Theano symbolic variables\n",
    "x = T.matrix(\"x\")\n",
    "y = T.vector(\"y\")\n",
    "w = theano.shared(rng.randn(feats).astype(theano.config.floatX), name=\"w\")\n",
    "b = theano.shared(numpy.asarray(0., dtype=theano.config.floatX), name=\"b\")\n",
    "x.tag.test_value = D[0]\n",
    "y.tag.test_value = D[1]\n",
    "# Construct Theano expression graph\n",
    "p_1 = 1 / (1 + T.exp(-T.dot(x, w)-b)) # Probability of having a one\n",
    "prediction = p_1 > 0.5 # The prediction that is done: 0 or 1\n",
    "# Compute gradients\n",
    "xent = -y*T.log(p_1) - (1-y)*T.log(1-p_1) # Cross-entropy\n",
    "cost = xent.mean() + 0.01*(w**2).sum() # The cost to optimize\n",
    "gw,gb = T.grad(cost, [w,b])\n",
    "# Training and prediction function\n",
    "train = theano.function(inputs=[x,y], outputs=[prediction, xent], updates=[[w, w-0.01*gw], [b, b-0.01*gb]], name = \"train\")\n",
    "predict = theano.function(inputs=[x], outputs=prediction, name = \"predict\")"
   ]
  },
  {
   "cell_type": "code",
   "execution_count": 2,
   "metadata": {},
   "outputs": [
    {
     "data": {
      "text/plain": [
       "'gt((TensorConstant{1} / (TensorConstant{1} + exp(((-(x \\\\dot w)) - b)))), TensorConstant{0.5})'"
      ]
     },
     "execution_count": 2,
     "metadata": {},
     "output_type": "execute_result"
    }
   ],
   "source": [
    "theano.printing.pprint(prediction) "
   ]
  },
  {
   "cell_type": "code",
   "execution_count": 4,
   "metadata": {},
   "outputs": [
    {
     "name": "stdout",
     "output_type": "stream",
     "text": [
      "The output file is available at pics/logreg_pydotprint_prediction.png\n"
     ]
    }
   ],
   "source": [
    "theano.printing.pydotprint(predict, outfile=\"pics/logreg_pydotprint_prediction.png\", var_with_name_simple=True)  "
   ]
  },
  {
   "cell_type": "code",
   "execution_count": 3,
   "metadata": {
    "collapsed": true
   },
   "outputs": [],
   "source": [
    "import theano.d3viz as d3v\n",
    "d3v.d3viz(predict, 'pics/logreg_d3v.html')"
   ]
  },
  {
   "cell_type": "code",
   "execution_count": 2,
   "metadata": {
    "collapsed": true
   },
   "outputs": [],
   "source": [
    "import theano\n",
    "import theano.tensor as T\n",
    "\n",
    "x0 = T.fmatrix()"
   ]
  },
  {
   "cell_type": "code",
   "execution_count": 4,
   "metadata": {
    "collapsed": true
   },
   "outputs": [],
   "source": [
    "x1 = T.ftensor3()"
   ]
  },
  {
   "cell_type": "code",
   "execution_count": 9,
   "metadata": {},
   "outputs": [
    {
     "data": {
      "text/plain": [
       "<TensorType(float32, matrix)>"
      ]
     },
     "execution_count": 9,
     "metadata": {},
     "output_type": "execute_result"
    }
   ],
   "source": [
    "x0"
   ]
  },
  {
   "cell_type": "code",
   "execution_count": 10,
   "metadata": {
    "collapsed": true
   },
   "outputs": [],
   "source": [
    "x2 = T.fvector()"
   ]
  },
  {
   "cell_type": "code",
   "execution_count": 13,
   "metadata": {},
   "outputs": [
    {
     "data": {
      "text/plain": [
       "3"
      ]
     },
     "execution_count": 13,
     "metadata": {},
     "output_type": "execute_result"
    }
   ],
   "source": [
    "x1.ndim"
   ]
  },
  {
   "cell_type": "code",
   "execution_count": 14,
   "metadata": {
    "collapsed": true
   },
   "outputs": [],
   "source": [
    "x = T.concatenate([x0, x1[0], T.shape_padright(x2)], axis=0)"
   ]
  },
  {
   "cell_type": "code",
   "execution_count": 26,
   "metadata": {},
   "outputs": [
    {
     "data": {
      "text/plain": [
       "Subtensor{int64}.0"
      ]
     },
     "execution_count": 26,
     "metadata": {},
     "output_type": "execute_result"
    }
   ],
   "source": [
    "x1.shape[4]"
   ]
  },
  {
   "cell_type": "code",
   "execution_count": 43,
   "metadata": {
    "collapsed": true
   },
   "outputs": [],
   "source": [
    "x = [[-0.27717891],\n",
    " [-0.16198902],\n",
    " [-0.19367902],\n",
    " [ 0.06845269],\n",
    " [ 0.01463763],\n",
    " [-0.15813443],\n",
    " [-0.24413121],\n",
    " [-0.25874367],\n",
    " [-0.28599471],\n",
    " [ 0.07083748]]\n"
   ]
  },
  {
   "cell_type": "code",
   "execution_count": 32,
   "metadata": {
    "collapsed": true
   },
   "outputs": [],
   "source": [
    "import numpy as np"
   ]
  },
  {
   "cell_type": "code",
   "execution_count": 33,
   "metadata": {},
   "outputs": [
    {
     "ename": "TypeError",
     "evalue": "'list' object cannot be interpreted as an index",
     "output_type": "error",
     "traceback": [
      "\u001b[0;31m---------------------------------------------------------------------------\u001b[0m",
      "\u001b[0;31mTypeError\u001b[0m                                 Traceback (most recent call last)",
      "\u001b[0;32m<ipython-input-33-c6259830bb59>\u001b[0m in \u001b[0;36m<module>\u001b[0;34m()\u001b[0m\n\u001b[0;32m----> 1\u001b[0;31m \u001b[0mnp\u001b[0m\u001b[0;34m.\u001b[0m\u001b[0mndarray\u001b[0m\u001b[0;34m(\u001b[0m\u001b[0mx\u001b[0m\u001b[0;34m)\u001b[0m\u001b[0;34m\u001b[0m\u001b[0m\n\u001b[0m",
      "\u001b[0;31mTypeError\u001b[0m: 'list' object cannot be interpreted as an index"
     ]
    }
   ],
   "source": [
    "np.ndarray(x)"
   ]
  },
  {
   "cell_type": "code",
   "execution_count": 44,
   "metadata": {
    "collapsed": true
   },
   "outputs": [],
   "source": [
    "x = np.array(x)"
   ]
  },
  {
   "cell_type": "code",
   "execution_count": 36,
   "metadata": {},
   "outputs": [
    {
     "data": {
      "text/plain": [
       "(10, 1)"
      ]
     },
     "execution_count": 36,
     "metadata": {},
     "output_type": "execute_result"
    }
   ],
   "source": [
    "x.shape"
   ]
  },
  {
   "cell_type": "code",
   "execution_count": 45,
   "metadata": {},
   "outputs": [
    {
     "data": {
      "text/plain": [
       "array([[-1.38589455],\n",
       "       [-0.8099451 ],\n",
       "       [-0.9683951 ],\n",
       "       [ 0.34226345],\n",
       "       [ 0.07318815],\n",
       "       [-0.79067215],\n",
       "       [-1.22065605],\n",
       "       [-1.29371835],\n",
       "       [-1.42997355],\n",
       "       [ 0.3541874 ]])"
      ]
     },
     "execution_count": 45,
     "metadata": {},
     "output_type": "execute_result"
    }
   ],
   "source": [
    "x*5"
   ]
  },
  {
   "cell_type": "code",
   "execution_count": 47,
   "metadata": {},
   "outputs": [
    {
     "data": {
      "text/plain": [
       "array([[ 2.44564218],\n",
       "       [ 2.67602196],\n",
       "       [ 2.61264196],\n",
       "       [ 3.13690538],\n",
       "       [ 3.02927526],\n",
       "       [ 2.68373114],\n",
       "       [ 2.51173758],\n",
       "       [ 2.48251266],\n",
       "       [ 2.42801058],\n",
       "       [ 3.14167496]])"
      ]
     },
     "execution_count": 47,
     "metadata": {},
     "output_type": "execute_result"
    }
   ],
   "source": [
    "((x+1)*(2))+1"
   ]
  },
  {
   "cell_type": "code",
   "execution_count": null,
   "metadata": {
    "collapsed": true
   },
   "outputs": [],
   "source": [
    "  1 3.3                                                                       \n",
    "  2 3.7\n",
    "  3 3\n",
    "  4 4.9\n",
    "  5 3.665\n",
    "  6 3.3\n",
    "  7 2.7\n",
    "  8 2.9\n",
    "  9 2.3\n",
    " 10 4.9\n"
   ]
  },
  {
   "cell_type": "code",
   "execution_count": 49,
   "metadata": {
    "collapsed": true
   },
   "outputs": [],
   "source": [
    "a = np.random.randn(10,1)"
   ]
  },
  {
   "cell_type": "code",
   "execution_count": 51,
   "metadata": {},
   "outputs": [
    {
     "name": "stdout",
     "output_type": "stream",
     "text": [
      "0.96124716995\n",
      "-1.01367834345\n",
      "-0.181045302343\n",
      "-1.33162325109\n",
      "0.44574973781\n",
      "0.957307913958\n",
      "0.125179129732\n",
      "0.348185744525\n",
      "1.98085105115\n",
      "-1.66825501668\n"
     ]
    }
   ],
   "source": [
    "for x in a:\n",
    "    print x[0]"
   ]
  },
  {
   "cell_type": "code",
   "execution_count": null,
   "metadata": {
    "collapsed": true
   },
   "outputs": [],
   "source": [
    "lines = []\n",
    "with open('../../data/SICK_test.txt') as f:\n",
    "    for l in f:\n",
    "        "
   ]
  }
 ],
 "metadata": {
  "kernelspec": {
   "display_name": "Python 2",
   "language": "python",
   "name": "python2"
  },
  "language_info": {
   "codemirror_mode": {
    "name": "ipython",
    "version": 2
   },
   "file_extension": ".py",
   "mimetype": "text/x-python",
   "name": "python",
   "nbconvert_exporter": "python",
   "pygments_lexer": "ipython2",
   "version": "2.7.13"
  }
 },
 "nbformat": 4,
 "nbformat_minor": 2
}
